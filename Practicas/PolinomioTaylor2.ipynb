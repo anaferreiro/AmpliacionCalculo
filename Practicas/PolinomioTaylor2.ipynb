{
 "cells": [
  {
   "cell_type": "markdown",
   "metadata": {},
   "source": [
    "Hallar el polinomio de McLaurin de orden 2 de la función $f(x,y)=x\\cos(x)+y\\sin(x)$"
   ]
  },
  {
   "cell_type": "code",
   "execution_count": 1,
   "metadata": {},
   "outputs": [],
   "source": [
    "import sympy as sp\n",
    "x,y=sp.symbols('x,y')\n",
    "f=x*sp.cos(x)+y*sp.sin(x)"
   ]
  },
  {
   "cell_type": "code",
   "execution_count": 2,
   "metadata": {},
   "outputs": [
    {
     "name": "stdout",
     "output_type": "stream",
     "text": [
      "Gradiente=  Matrix([[-x*sin(x) + y*cos(x) + cos(x)], [sin(x)]])\n",
      "Matriz Hessiana=  [[-x*cos(x) - y*sin(x) - 2*sin(x), cos(x)], [cos(x), 0]]\n"
     ]
    }
   ],
   "source": [
    "grad=[sp.diff(f,c) for c in [x,y]]\n",
    "grad=sp.Matrix(grad)\n",
    "print (\"Gradiente= \",grad)\n",
    "\n",
    "#Calculo de la matriz Hessiana\n",
    "H=[]\n",
    "for df in grad:\n",
    "    H.append([sp.diff(df,c) for c in [x,y]]   )\n",
    "print(\"Matriz Hessiana= \",H)\n",
    "H=sp.Matrix(H)\n"
   ]
  },
  {
   "cell_type": "code",
   "execution_count": 3,
   "metadata": {},
   "outputs": [
    {
     "name": "stdout",
     "output_type": "stream",
     "text": [
      "0\n",
      "Matrix([[1], [0]])\n",
      "Hessiana en x0=  Matrix([[0, 1], [1, 0]])\n"
     ]
    }
   ],
   "source": [
    "x0=(0,0)\n",
    "f0=f.subs(  [ (x,x0[0]), (y,x0[1])     ] )\n",
    "print(f0)\n",
    "grad0=grad.subs([ (x,x0[0]), (y,x0[1])     ])\n",
    "print(grad0)\n",
    "H0=H.subs([ (x,x0[0]), (y,x0[1])     ])\n",
    "print(\"Hessiana en x0= \",H0)"
   ]
  },
  {
   "cell_type": "code",
   "execution_count": 4,
   "metadata": {},
   "outputs": [
    {
     "name": "stdout",
     "output_type": "stream",
     "text": [
      "xy=  Matrix([[x], [y]])\n",
      "dif=  Matrix([[x], [y]])\n",
      "x\n",
      "Matrix([[x**2], [y**2]])\n",
      "aux=  Matrix([[y**2], [x**2]])\n",
      "Polinomio de Taylor= \n",
      " x**2 + x + y**2\n"
     ]
    }
   ],
   "source": [
    "x0=sp.Matrix(x0) #Lo paso a Matrix para hacer operaciones \n",
    "p2=f0\n",
    "xy=sp.Matrix([x,y])\n",
    "print(\"xy= \", xy)\n",
    "dif=xy-x0\n",
    "print('dif= ',dif)\n",
    "p2+=grad0.dot(dif)\n",
    "print(p2)\n",
    "\n",
    "\n",
    "dif2=dif.multiply_elementwise(dif)\n",
    "print(dif2)\n",
    "aux=H0*dif2\n",
    "print(\"aux= \",aux)\n",
    "\n",
    "\n",
    "p2+=sum(aux)\n",
    "print(\"Polinomio de Taylor= \\n\",p2)\n"
   ]
  },
  {
   "cell_type": "code",
   "execution_count": 5,
   "metadata": {},
   "outputs": [
    {
     "name": "stdout",
     "output_type": "stream",
     "text": [
      "Using matplotlib backend: TkAgg\n"
     ]
    }
   ],
   "source": [
    "%matplotlib\n",
    "from sympy.plotting import plot3d\n",
    "import matplotlib.pyplot as plt\n",
    "#Representacion grafica\n",
    "\n",
    "fig=plot3d(f,(x,-0.5,0.5),(y,-0.5,0.5),cmap=\"Greens\",alpha=0.2,show=False)\n",
    "fig2=plot3d(p2,(x,-0.5,0.5),(y,-0.5,0.5),cmap=\"Reds\",alpha=1,show=False)\n",
    "fig.extend(fig2)\n",
    "fig.show()\n",
    "plt.draw()"
   ]
  },
  {
   "cell_type": "code",
   "execution_count": 7,
   "metadata": {},
   "outputs": [
    {
     "name": "stdout",
     "output_type": "stream",
     "text": [
      "0.18055555555555555 0.18055555555555555 0.375\n"
     ]
    }
   ],
   "source": [
    "print(78/432, 13/72,0.75/2)"
   ]
  },
  {
   "cell_type": "code",
   "execution_count": null,
   "metadata": {},
   "outputs": [],
   "source": []
  }
 ],
 "metadata": {
  "kernelspec": {
   "display_name": "Python 3",
   "language": "python",
   "name": "python3"
  },
  "language_info": {
   "codemirror_mode": {
    "name": "ipython",
    "version": 3
   },
   "file_extension": ".py",
   "mimetype": "text/x-python",
   "name": "python",
   "nbconvert_exporter": "python",
   "pygments_lexer": "ipython3",
   "version": "3.8.6"
  }
 },
 "nbformat": 4,
 "nbformat_minor": 4
}
