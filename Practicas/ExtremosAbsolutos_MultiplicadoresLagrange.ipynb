{
 "cells": [
  {
   "cell_type": "markdown",
   "metadata": {},
   "source": [
    "Extremos condicionados (métodos de multiplicadores de Lagrange)\n",
    "\n",
    "Hallar los extremos absolutos de la función $f(x,y)=x^3+y^3$, sobre la circunferencia $x^2+y^2=1$"
   ]
  },
  {
   "cell_type": "code",
   "execution_count": 1,
   "metadata": {},
   "outputs": [
    {
     "name": "stdout",
     "output_type": "stream",
     "text": [
      "Using matplotlib backend: TkAgg\n"
     ]
    }
   ],
   "source": [
    "import sympy as sp\n",
    "x,y=sp.symbols('x,y')\n",
    "lb=sp.symbols('lb')\n",
    "f=x**3+y**3\n",
    "g=x**2+y**2-1\n",
    "%matplotlib\n",
    "from sympy.plotting import plot3d\n",
    "#Representacion grafica\n",
    "fig=plot3d(f,(x,-2,2),(y,-2,2))"
   ]
  },
  {
   "cell_type": "code",
   "execution_count": 2,
   "metadata": {},
   "outputs": [
    {
     "name": "stdout",
     "output_type": "stream",
     "text": [
      "Puntos criticos=  [(-1, 0, 3/2), (0, -1, 3/2), (0, 1, -3/2), (1, 0, -3/2), (-sqrt(2)/2, -sqrt(2)/2, 3*sqrt(2)/4), (sqrt(2)/2, sqrt(2)/2, -3*sqrt(2)/4)]\n"
     ]
    }
   ],
   "source": [
    "F=f+lb*g\n",
    "#Fx=sp.diff(F,x)\n",
    "#Fy=sp.diff(F,y)\n",
    "#Flb=sp.diff(F,lb)\n",
    "gradF=[sp.diff(F,k) for k in [x,y,lb]]\n",
    "ec=[sp.Eq(h,0) for h in gradF]\n",
    "#puntos criticos\n",
    "pc=sp.solve(ec,(x,y,lb))\n",
    "print(\"Puntos criticos= \", pc)"
   ]
  },
  {
   "cell_type": "code",
   "execution_count": 3,
   "metadata": {},
   "outputs": [
    {
     "name": "stdout",
     "output_type": "stream",
     "text": [
      "[(-1, 0), (0, -1), (0, 1), (1, 0), (-sqrt(2)/2, -sqrt(2)/2), (sqrt(2)/2, sqrt(2)/2)]\n"
     ]
    }
   ],
   "source": [
    "#Evaluamos f en los puntos críticos.. OJO!! f está definida para dos variables\n",
    "pc2=[ (pc[k][0],pc[k][1]) for k in range(0,len(pc))]\n",
    "print(pc2)"
   ]
  },
  {
   "cell_type": "code",
   "execution_count": 4,
   "metadata": {},
   "outputs": [
    {
     "name": "stdout",
     "output_type": "stream",
     "text": [
      "pto=  (-1, 0)   f(pto)=  -1.00000000000000\n",
      "pto=  (0, -1)   f(pto)=  -1.00000000000000\n",
      "pto=  (0, 1)   f(pto)=  1.00000000000000\n",
      "pto=  (1, 0)   f(pto)=  1.00000000000000\n",
      "pto=  (-sqrt(2)/2, -sqrt(2)/2)   f(pto)=  -0.707106781186548\n",
      "pto=  (sqrt(2)/2, sqrt(2)/2)   f(pto)=  0.707106781186548\n"
     ]
    }
   ],
   "source": [
    "for pto in pc2:\n",
    "    val=f.subs([(x,pto[0]),(y,pto[1])])\n",
    "    print(\"pto= \", pto, \"  f(pto)= \", val.evalf() )"
   ]
  },
  {
   "cell_type": "code",
   "execution_count": null,
   "metadata": {},
   "outputs": [],
   "source": []
  }
 ],
 "metadata": {
  "kernelspec": {
   "display_name": "Python 3",
   "language": "python",
   "name": "python3"
  },
  "language_info": {
   "codemirror_mode": {
    "name": "ipython",
    "version": 3
   },
   "file_extension": ".py",
   "mimetype": "text/x-python",
   "name": "python",
   "nbconvert_exporter": "python",
   "pygments_lexer": "ipython3",
   "version": "3.8.6"
  }
 },
 "nbformat": 4,
 "nbformat_minor": 4
}
