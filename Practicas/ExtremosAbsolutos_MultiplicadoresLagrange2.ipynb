{
 "cells": [
  {
   "cell_type": "markdown",
   "metadata": {},
   "source": [
    "Hallar los extremos absolutos de la función $f(x,y,z)=x+y+z$ sobre el elipsoide $x^2 + 2y^2+4z^2=1$"
   ]
  },
  {
   "cell_type": "code",
   "execution_count": 2,
   "metadata": {},
   "outputs": [
    {
     "name": "stdout",
     "output_type": "stream",
     "text": [
      "lb*(x**2 + 2*y**2 + 4*z**2 - 1) + x + y + z\n"
     ]
    }
   ],
   "source": [
    "import sympy as sp\n",
    "x,y,z=sp.symbols('x,y,z')\n",
    "f=x+y+z\n",
    "g=x**2+2*y**2+4*z**2-1\n",
    "lb=sp.symbols('lb')\n",
    "F=f+lb*g\n",
    "print(F)"
   ]
  },
  {
   "cell_type": "code",
   "execution_count": 4,
   "metadata": {},
   "outputs": [
    {
     "name": "stdout",
     "output_type": "stream",
     "text": [
      "Puntos criticos=  [(-2*sqrt(7)/7, -sqrt(7)/7, -sqrt(7)/14, sqrt(7)/4), (2*sqrt(7)/7, sqrt(7)/7, sqrt(7)/14, -sqrt(7)/4)]\n"
     ]
    }
   ],
   "source": [
    "gradF=[sp.diff(F,k) for k in [x,y,z,lb]]\n",
    "ec=[sp.Eq(h,0) for h in gradF]\n",
    "#puntos criticos\n",
    "pc=sp.solve(ec,(x,y,z,lb))\n",
    "print(\"Puntos criticos= \", pc)"
   ]
  },
  {
   "cell_type": "code",
   "execution_count": 5,
   "metadata": {},
   "outputs": [
    {
     "name": "stdout",
     "output_type": "stream",
     "text": [
      "[(-2*sqrt(7)/7, -sqrt(7)/7, -sqrt(7)/14), (2*sqrt(7)/7, sqrt(7)/7, sqrt(7)/14)]\n"
     ]
    }
   ],
   "source": [
    "#Evaluamos f en los puntos críticos.. OJO!! f está definida para dos variables\n",
    "pc2=[ (pc[k][0],pc[k][1],pc[k][2]) for k in range(0,len(pc))]\n",
    "print(pc2)"
   ]
  },
  {
   "cell_type": "code",
   "execution_count": 6,
   "metadata": {},
   "outputs": [
    {
     "name": "stdout",
     "output_type": "stream",
     "text": [
      "pto=  (-2*sqrt(7)/7, -sqrt(7)/7, -sqrt(7)/14)   f(pto)=  z - 1.13389341902768\n",
      "pto=  (2*sqrt(7)/7, sqrt(7)/7, sqrt(7)/14)   f(pto)=  z + 1.13389341902768\n"
     ]
    }
   ],
   "source": [
    "for pto in pc2:\n",
    "    val=f.subs([(x,pto[0]),(y,pto[1])])\n",
    "    print(\"pto= \", pto, \"  f(pto)= \", val.evalf() )"
   ]
  },
  {
   "cell_type": "code",
   "execution_count": null,
   "metadata": {},
   "outputs": [],
   "source": []
  }
 ],
 "metadata": {
  "kernelspec": {
   "display_name": "Python 3",
   "language": "python",
   "name": "python3"
  },
  "language_info": {
   "codemirror_mode": {
    "name": "ipython",
    "version": 3
   },
   "file_extension": ".py",
   "mimetype": "text/x-python",
   "name": "python",
   "nbconvert_exporter": "python",
   "pygments_lexer": "ipython3",
   "version": "3.8.6"
  }
 },
 "nbformat": 4,
 "nbformat_minor": 4
}
