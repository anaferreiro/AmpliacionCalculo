{
 "cells": [
  {
   "cell_type": "markdown",
   "metadata": {},
   "source": [
    "https://personales.unican.es/alvareze/CalculoWeb/CalculoII/practicas/PR7_TeoremasSuperficie_20_21.pdf\n",
    "\n",
    "\n",
    "\n",
    "Sea $S$ la parte del semicilindro $z=\\sqrt{1-x^2}$ comprendido entre $y=-1$, e $y=1$. Consideremos el campo $F(x,y,z)= (y+z, x^2+z^2, y)$. \n",
    "\n",
    "(a) Dibujar la superficie en el rectángulo $[-1,1]\\times[-1,1]$\n",
    "\n",
    "\n",
    "(b) Comprobar que se verifica el Teorema de Stokes"
   ]
  },
  {
   "cell_type": "code",
   "execution_count": null,
   "metadata": {},
   "outputs": [],
   "source": []
  }
 ],
 "metadata": {
  "kernelspec": {
   "display_name": "Python 3",
   "language": "python",
   "name": "python3"
  },
  "language_info": {
   "codemirror_mode": {
    "name": "ipython",
    "version": 3
   },
   "file_extension": ".py",
   "mimetype": "text/x-python",
   "name": "python",
   "nbconvert_exporter": "python",
   "pygments_lexer": "ipython3",
   "version": "3.8.6"
  }
 },
 "nbformat": 4,
 "nbformat_minor": 4
}
