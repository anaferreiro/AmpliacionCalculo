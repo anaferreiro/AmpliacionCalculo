{
 "cells": [
  {
   "cell_type": "markdown",
   "metadata": {},
   "source": [
    "Ejr:\n",
    "\n",
    "Sea S la porción del cono $z=\\sqrt{x^2+y^2}$ con $z\\le 1$. Una lámina dada por $S$ y su densidad en cada punto es igual a la altura del punto respecto al plano $z=0$. \n",
    "\n",
    "(a)  Respresenta la superficie $S$ empleando las parametrizacones\n",
    "$$\n",
    "x=r\\cos(t),\\, y=r\\sin(t), \\, z=r\n",
    "$$\n",
    "\n",
    "(b) Encontrar la densidad media de la lámina\n",
    "\n",
    "(c) Determinar y representar sobre la superficie, el lugar geométrico de los puntos de la lámina que tienen una densidad igual a la densidad media. "
   ]
  },
  {
   "cell_type": "code",
   "execution_count": 2,
   "metadata": {},
   "outputs": [
    {
     "data": {
      "image/png": "[encoded data removed]",
      "text/plain": [
       "<Figure size 432x288 with 1 Axes>"
      ]
     },
     "metadata": {
      "needs_background": "light"
     },
     "output_type": "display_data"
    }
   ],
   "source": [
    "import numpy as np\n",
    "th=np.linspace(0, np.pi*2,20)\n",
    "r=np.linspace(0,2,20)\n",
    "Th,R=np.meshgrid(th,r)\n",
    "X=R*np.cos(Th);Y=R*np.sin(Th)\n",
    "Z=R*np.ones_like(X)\n",
    "\n",
    "import matplotlib.pyplot as plt\n",
    "from matplotlib import cm\n",
    "\n",
    "fig1, ax = plt.subplots(subplot_kw={\"projection\": \"3d\"})\n",
    "surf = ax.plot_surface(X, Y, Z, cmap=cm.coolwarm,linewidth=0, antialiased=False)\n",
    "\n",
    "plt.show()"
   ]
  },
  {
   "cell_type": "markdown",
   "metadata": {},
   "source": [
    "$z=\\sqrt{x^2+y^2}=g(x,y)$\n",
    "\n",
    "\n",
    "\n",
    "$$\n",
    "A= \\int \\int_S 1 \\, dS = \\int \\int_D \\sqrt{1 + (g_x)^2 + (g_y)^2} dx\\, dy \\mbox{  porque } z=g(x,y)\n",
    "$$\n",
    "\n",
    "La integral se resuelve mediante cambio a coordenadas polares $x=r\\cos(theta)$,  $y=r\\sin(theta)$\n",
    "\n",
    "\n",
    "La densidad total es:\n",
    "\n",
    "$$\n",
    "\\rho_{t}= \\int \\int_S \\rho(x,y,z)dS= \\int \\int_D \\rho(x,y,z) \\sqrt{1 + (g_x)^2 + (g_y)^2} dx\\, dy \\mbox{  porque } z=g(x,y)\n",
    "$$\n",
    "\n",
    "\n",
    "$\\rho(x,y,z)=z$\n",
    "\n",
    "Haciendo cambio a coordenadas polares $x=r\\cos(\\theta)$,  $y=r\\sin(\\theta)$\n",
    "\n",
    "La densidad media es:\n",
    "\n",
    "$$\n",
    "\\rho_{med}=\\frac{\\rho_t}{A}\n",
    "$$"
   ]
  },
  {
   "cell_type": "code",
   "execution_count": 13,
   "metadata": {},
   "outputs": [
    {
     "name": "stdout",
     "output_type": "stream",
     "text": [
      "f=  sqrt(2)\n",
      "sqrt(2)*r\n",
      "Area=  4.44288293815837\n",
      "A=  4.442882938158367\n"
     ]
    }
   ],
   "source": [
    "#TEngo que mirar las cuentas que salen a mano...\n",
    "\n",
    "import sympy as sp\n",
    "x,y,z=sp.symbols('x,y,z')\n",
    "g=sp.sqrt(x**2+y**2)\n",
    "gx=sp.diff(g,x);gy=sp.diff(g,y)\n",
    "\n",
    "r,t=sp.symbols('r,t')\n",
    "f=sp.sqrt(1+gx**2+gy**2)\n",
    "f=sp.simplify(f)\n",
    "print(\"f= \", f)\n",
    "\n",
    "f=f.subs([ (x,r*sp.cos(t)),(y,r*sp.sin(t)) ])\n",
    "h=f*r\n",
    "print(h)\n",
    "h=sp.simplify(h)\n",
    "A=sp.integrate(h, (t,0.,sp.pi*2), (r,0,1)) #NO es capaz de hacer la integral  \n",
    "print(\"Area= \", A.evalf())\n",
    "\n",
    "#Directamente con Scipy\n",
    "from scipy.integrate import quad\n",
    "h1=sp.lambdify((t,r),h)\n",
    "\n",
    "from scipy import integrate\n",
    "A,e= integrate.nquad(h1, [[0,np.pi*2], [0,1] ]) \n",
    "print(\"A= \", A)"
   ]
  },
  {
   "cell_type": "code",
   "execution_count": 18,
   "metadata": {},
   "outputs": [
    {
     "name": "stdout",
     "output_type": "stream",
     "text": [
      "sqrt(2)*r**2\n",
      "Densidad total=  2.96192195877224\n",
      "Densidad media=  0.150052719359518*sqrt(2)*pi\n"
     ]
    }
   ],
   "source": [
    "#Densidad total\n",
    "ro=z\n",
    "\n",
    "f=ro*sp.sqrt(1+gx**2+gy**2)\n",
    "f=sp.simplify(f)\n",
    "f=f.subs([ (x,r*sp.cos(t)),(y,r*sp.sin(t)),(z,r) ])\n",
    "h=f*r\n",
    "print(h)\n",
    "h=sp.simplify(h)\n",
    "ro_total=sp.integrate(h, (t,0.,sp.pi*2), (r,0,1)) #NO es capaz de hacer la integral  \n",
    "print(\"Densidad total= \", ro_total.evalf())\n",
    "\n",
    "ro_media=ro_total/A\n",
    "print(\"Densidad media= \", ro_media)"
   ]
  },
  {
   "cell_type": "code",
   "execution_count": null,
   "metadata": {},
   "outputs": [],
   "source": []
  }
 ],
 "metadata": {
  "kernelspec": {
   "display_name": "Python 3",
   "language": "python",
   "name": "python3"
  },
  "language_info": {
   "codemirror_mode": {
    "name": "ipython",
    "version": 3
   },
   "file_extension": ".py",
   "mimetype": "text/x-python",
   "name": "python",
   "nbconvert_exporter": "python",
   "pygments_lexer": "ipython3",
   "version": "3.8.6"
  }
 },
 "nbformat": 4,
 "nbformat_minor": 4
}
