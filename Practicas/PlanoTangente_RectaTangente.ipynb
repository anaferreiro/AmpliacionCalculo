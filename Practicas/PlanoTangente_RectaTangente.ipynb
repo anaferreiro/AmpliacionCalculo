{
 "cells": [
  {
   "cell_type": "markdown",
   "metadata": {},
   "source": [
    "https://personales.unican.es/alvareze/calculoweb/calculoi/practicas/PR8_PlanoTangente_15_16.pdf\n",
    "\n",
    "Práctica de plano tangente:\n",
    "\n",
    "Considerar la funcion $f(x,y)=\\sqrt{12+2x^2+2y^2}$ y el punto $P=(1,-1)$.\n",
    "\n",
    "a) Calcular la ecuación del plano tangente a la superficien en P\n",
    "\n",
    "$$\n",
    "z=f(x_0,y_0)+f_x(x_0,y_0)(x-x_0) + f_y(x_0,y_0)(y-y_0)\n",
    "$$\n",
    "\n",
    "b) Respresentar la superficie y el plano tangente\n",
    "c) Calcular para el punto $Q(\\frac{1}{2}, -\\frac{1}{2})$ el valor aproximado de $f(Q)$ utilizando la diferencial. Recuerde que \n",
    "$$\n",
    "\\begin{array}{c}\n",
    "f(Q)-f(P) \\approx f_x(P) \\Delta x + f_y(P) \\Delta y\\\\\n",
    "f(Q) - f(P) \\approx f_x(P) (P_x - Q_x) + f_y(P)(P_y-Q_y)\n",
    "\\end{array}\n",
    "$$"
   ]
  },
  {
   "cell_type": "code",
   "execution_count": 1,
   "metadata": {},
   "outputs": [
    {
     "name": "stdout",
     "output_type": "stream",
     "text": [
      "Gradiente=  [2*x/sqrt(2*x**2 + 2*y**2 + 12), 2*y/sqrt(2*x**2 + 2*y**2 + 12)]\n"
     ]
    }
   ],
   "source": [
    "import sympy as sp\n",
    "x,y=sp.symbols('x,y')\n",
    "f=sp.sqrt(12+2*x**2 + 2*y**2)\n",
    "grad=[sp.diff(f,c) for c in [x,y]]\n",
    "print (\"Gradiente= \",grad)"
   ]
  },
  {
   "cell_type": "code",
   "execution_count": 2,
   "metadata": {},
   "outputs": [
    {
     "name": "stdout",
     "output_type": "stream",
     "text": [
      "1/2 -1/2\n",
      "x/2 - y/2 + 3\n"
     ]
    }
   ],
   "source": [
    "#evaluamos el gradiente en el punto (1,-1)\n",
    "pto=(1,-1)\n",
    "#grad0=[val.subs([(x,1),(y,-1)]) for val in grad ]\n",
    "#fx0,fy0=grad0\n",
    "fx0=grad[0].subs([(x,1),(y,-1)])\n",
    "fy0=grad[1].subs([(x,1),(y,-1) ])\n",
    "print(fx0,fy0)\n",
    "plano=fx0*(x-pto[0])+fy0*(y-pto[1])+f.subs([(x,pto[0]),(y,pto[1]) ])\n",
    "print(plano)"
   ]
  },
  {
   "cell_type": "code",
   "execution_count": 3,
   "metadata": {},
   "outputs": [
    {
     "name": "stdout",
     "output_type": "stream",
     "text": [
      "Using matplotlib backend: TkAgg\n"
     ]
    }
   ],
   "source": [
    "#Representamos la funcion y el plano tangente\n",
    "%matplotlib\n",
    "from sympy.plotting import plot3d\n",
    "fig=plot3d(f,cmap=\"Greens\",show=False)\n",
    "fig2=plot3d(plano,cmap=\"Reds\",show=False)\n",
    "fig.extend(fig2)\n",
    "fig.show()\n",
    "\n",
    "#fig._backend.ax.collections[0].set_cmap(\"Greens\")\n",
    "#fig._backend.ax.collections[1].set_cmap('Reds')"
   ]
  },
  {
   "cell_type": "code",
   "execution_count": 4,
   "metadata": {},
   "outputs": [
    {
     "name": "stdout",
     "output_type": "stream",
     "text": [
      "Valor aproximado=  3.50000000000000\n"
     ]
    }
   ],
   "source": [
    "#Aproximacion de f(1/2,-1/2)\n",
    "valor=plano.subs([(x,0.5),(y,-0.5) ])\n",
    "print(\"Valor aproximado= \", valor)"
   ]
  },
  {
   "cell_type": "markdown",
   "metadata": {},
   "source": [
    "Práctica de plano tangente:\n",
    "\n",
    "Considerar la funcion $f(x,y)=e^x \\cos(x+y)$ y los puntos $P=(0,0)$ $Q=(1,0.5)$.\n",
    "\n",
    "a) Calcular la ecuación del plano tangente a la superficien en P\n",
    "\n",
    "$$\n",
    "z=f(x_0,y_0)+f_x(x_0,y_0)(x-x_0) + f_y(x_0,y_0)(y-y_0)\n",
    "$$\n",
    "\n",
    "b) Respresentar la superficie y el plano tangente\n",
    "c) Calcular para el punto $Q(\\frac{1}{2}, -\\frac{1}{2})$ el valor aproximado de $f(Q)$ utilizando la diferencial. Recuerde que \n",
    "$$\n",
    "\\begin{array}{c}\n",
    "f(Q)-f(P) \\approx f_x(P) \\Delta x + f_y(P) \\Delta y\\\\\n",
    "f(Q) - f(P) \\approx f_x(P) (P_x - Q_x) + f_y(P)(P_y-Q_y)\n",
    "\\end{array}\n",
    "$$"
   ]
  },
  {
   "cell_type": "code",
   "execution_count": 8,
   "metadata": {},
   "outputs": [
    {
     "name": "stdout",
     "output_type": "stream",
     "text": [
      "Gradiente=  [-exp(x)*sin(x + y) + exp(x)*cos(x + y), -exp(x)*sin(x + y)]\n",
      "1 0\n",
      "Plano=  x + 1\n",
      "Using matplotlib backend: TkAgg\n"
     ]
    }
   ],
   "source": [
    "import sympy as sp\n",
    "x,y=sp.symbols('x,y')\n",
    "f=sp.exp(x) * sp.cos(x+y)\n",
    "grad=[sp.diff(f,c) for c in [x,y]]\n",
    "print (\"Gradiente= \",grad)\n",
    "#evaluamos el gradiente en el punto (1,-1)\n",
    "pto=(0,0)\n",
    "#grad0=[val.subs([(x,1),(y,-1)]) for val in grad ]\n",
    "#fx0,fy0=grad0\n",
    "fx0=grad[0].subs([(x,pto[0]),(y,pto[1])])\n",
    "fy0=grad[1].subs([(x,pto[0]),(y,pto[1]) ])\n",
    "print(fx0,fy0)\n",
    "plano=fx0*(x-pto[0])+fy0*(y-pto[1])+f.subs([(x,pto[0]),(y,pto[1]) ])\n",
    "print(\"Plano= \", plano)\n",
    "#Representamos la funcion y el plano tangente\n",
    "%matplotlib \n",
    "from sympy.plotting import plot3d\n",
    "#fig=plot3d(f)\n",
    "fig=plot3d(f,(x,-1,1),(y,-1,1), nb_of_points_x=50, nb_of_points_y=50,cmap=\"Greens\",show=False)\n",
    "fig2=plot3d(plano,(x,-1,1),(y,-1,1), nb_of_points_x=50, nb_of_points_y=50,cmap=\"Reds\",show=False)\n",
    "fig2.extend(fig)\n",
    "fig2.show()\n",
    "#fig=plot3d(f,plano,(x,-1,1),(y,-1,1), nb_of_points_x=50, nb_of_points_y=50)\n",
    "#fig._backend.ax.collections[0].set_cmap(\"Greens\")\n",
    "#fig._backend.ax.collections[1].set_cmap('Reds')\n",
    "#fig._backend.ax.collections[1].set_alpha(1)\n"
   ]
  },
  {
   "cell_type": "code",
   "execution_count": 6,
   "metadata": {},
   "outputs": [
    {
     "name": "stdout",
     "output_type": "stream",
     "text": [
      "Valor aproximado=  2\n"
     ]
    }
   ],
   "source": [
    "#Aproximacion de f(1/2,-1/2)\n",
    "Q=(1,0.5)\n",
    "valor=plano.subs([(x,Q[0]),(y,Q[1]) ])\n",
    "print(\"Valor aproximado= \", valor)"
   ]
  },
  {
   "cell_type": "code",
   "execution_count": null,
   "metadata": {},
   "outputs": [],
   "source": []
  }
 ],
 "metadata": {
  "kernelspec": {
   "display_name": "Python 3",
   "language": "python",
   "name": "python3"
  },
  "language_info": {
   "codemirror_mode": {
    "name": "ipython",
    "version": 3
   },
   "file_extension": ".py",
   "mimetype": "text/x-python",
   "name": "python",
   "nbconvert_exporter": "python",
   "pygments_lexer": "ipython3",
   "version": "3.8.6"
  }
 },
 "nbformat": 4,
 "nbformat_minor": 2
}
