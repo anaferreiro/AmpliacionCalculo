{
 "cells": [
  {
   "cell_type": "markdown",
   "metadata": {},
   "source": [
    "Calcular la integral\n",
    "$$\n",
    "\\int_0^2\\int_0^1 e^{y-x}dydx\n",
    "$$\n",
    "de forma exacta y aproximarla mediante el método del punto medio"
   ]
  },
  {
   "cell_type": "code",
   "execution_count": 49,
   "metadata": {},
   "outputs": [
    {
     "name": "stdout",
     "output_type": "stream",
     "text": [
      "I= -1 + (1 - E)*exp(-2) + E    I= 1.48573767052422\n",
      "1.48573767052422\n",
      "1.0 0.25\n",
      "Ia= 0.9772465842888901\n",
      "error=  0.508491086235325\n"
     ]
    }
   ],
   "source": [
    "import sympy as sp\n",
    "x,y=sp.symbols('x,y')\n",
    "f=sp.exp(y-x)\n",
    "I=sp.integrate(f,(y,0,1),(x,0,2))\n",
    "Ie=I.evalf()\n",
    "print(\"I=\",I,\"   I=\", I.evalf())\n",
    "aux=-1./sp.exp(1)+1/sp.exp(1)**2+sp.exp(1)-1\n",
    "print(aux.evalf())\n",
    "\n",
    "#Ia=0.\n",
    "#Ia=f.subs([(x,1/4),(y,1/2)])+f.subs([(x,1/4),(y,2)])+f.subs([(x,3/4),(y,1/2)])+f.subs([(x,3/4),(y,2)])\n",
    "#print(\"Ia=\",0.5*Ia.evalf())\n",
    "\n",
    "\n",
    "n=2\n",
    "m=4\n",
    "g=sp.lambdify([x,y],f)\n",
    "import numpy as np\n",
    "dx=(2-0)/n; dy=(1-0)/m\n",
    "print(dx,dy)\n",
    "p0=np.linspace(0,2,num=n+1)\n",
    "#print(p0)\n",
    "p1=np.linspace(0,1,num=m+1)\n",
    "#print(p1)\n",
    "p0m=p0+dx\n",
    "p1m=p1+dy\n",
    "#print(\"--\", p0m,\"   -- \", p1m)\n",
    "Ia=0\n",
    "for x0 in p0m[0:n]:\n",
    "    for y0 in p1m[0:m]:\n",
    "        #print(\"(x0,y0)\",(x0,y0))\n",
    "        pto=np.array([x0,y0])\n",
    "        #print((x0,y0),g(x0,y0),f.subs([(x,x0),(y,y0)]))\n",
    "        Ia+=g(x0,y0)\n",
    "Ia=Ia*dx*dy\n",
    "print(\"Ia=\", Ia)\n",
    "print(\"error= \", np.abs(Ia-Ie))"
   ]
  },
  {
   "cell_type": "code",
   "execution_count": null,
   "metadata": {},
   "outputs": [],
   "source": []
  }
 ],
 "metadata": {
  "kernelspec": {
   "display_name": "Python 3",
   "language": "python",
   "name": "python3"
  },
  "language_info": {
   "codemirror_mode": {
    "name": "ipython",
    "version": 3
   },
   "file_extension": ".py",
   "mimetype": "text/x-python",
   "name": "python",
   "nbconvert_exporter": "python",
   "pygments_lexer": "ipython3",
   "version": "3.8.10"
  }
 },
 "nbformat": 4,
 "nbformat_minor": 4
}
